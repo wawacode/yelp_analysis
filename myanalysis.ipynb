{
 "cells": [
  {
   "cell_type": "code",
   "execution_count": 1,
   "id": "c193eddf",
   "metadata": {},
   "outputs": [],
   "source": [
    "import pandas"
   ]
  },
  {
   "cell_type": "code",
   "execution_count": 4,
   "id": "9530528c",
   "metadata": {},
   "outputs": [
    {
     "name": "stderr",
     "output_type": "stream",
     "text": [
      "c:\\users\\administrator\\appdata\\local\\programs\\python\\python37\\lib\\site-packages\\IPython\\core\\interactiveshell.py:3553: DtypeWarning: Columns (1,6) have mixed types.Specify dtype option on import or set low_memory=False.\n",
      "  exec(code_obj, self.user_global_ns, self.user_ns)\n"
     ]
    },
    {
     "data": {
      "text/html": [
       "<div>\n",
       "<style scoped>\n",
       "    .dataframe tbody tr th:only-of-type {\n",
       "        vertical-align: middle;\n",
       "    }\n",
       "\n",
       "    .dataframe tbody tr th {\n",
       "        vertical-align: top;\n",
       "    }\n",
       "\n",
       "    .dataframe thead th {\n",
       "        text-align: right;\n",
       "    }\n",
       "</style>\n",
       "<table border=\"1\" class=\"dataframe\">\n",
       "  <thead>\n",
       "    <tr style=\"text-align: right;\">\n",
       "      <th></th>\n",
       "      <th>reviewbody</th>\n",
       "      <th>口味评分</th>\n",
       "      <th>环境评分</th>\n",
       "      <th>服务评分</th>\n",
       "    </tr>\n",
       "  </thead>\n",
       "  <tbody>\n",
       "    <tr>\n",
       "      <th>0</th>\n",
       "      <td>这种地方，环境好是肯定的～吃的羊排什么的。还行吧～</td>\n",
       "      <td>3.0</td>\n",
       "      <td>4.0</td>\n",
       "      <td>4.0</td>\n",
       "    </tr>\n",
       "    <tr>\n",
       "      <th>1</th>\n",
       "      <td>这是一家在中国的中餐馆，口味、菜单、摆盘（菜量）和任何一家四星本帮菜都没法比… …</td>\n",
       "      <td>0.0</td>\n",
       "      <td>1.0</td>\n",
       "      <td>1.0</td>\n",
       "    </tr>\n",
       "    <tr>\n",
       "      <th>2</th>\n",
       "      <td>天天中午发愁吃什么，刚好走进中信泰富，为了不过多纠结就和小伙伴决定吃意面。意面分量足够，吃完...</td>\n",
       "      <td>3.0</td>\n",
       "      <td>4.0</td>\n",
       "      <td>4.0</td>\n",
       "    </tr>\n",
       "    <tr>\n",
       "      <th>3</th>\n",
       "      <td>很多年前在电视上见过介绍这家饭店，就在网上搜索过评论不怎么样也就作罢了，此次有亲戚介绍推荐上...</td>\n",
       "      <td>2.0</td>\n",
       "      <td>0.0</td>\n",
       "      <td>0.0</td>\n",
       "    </tr>\n",
       "    <tr>\n",
       "      <th>4</th>\n",
       "      <td>去了好几次，德国猪肘是这里的特色菜，基本上每桌必点！还有这里的生啤也不错！如果要坐外面需要自...</td>\n",
       "      <td>4.0</td>\n",
       "      <td>4.0</td>\n",
       "      <td>4.0</td>\n",
       "    </tr>\n",
       "    <tr>\n",
       "      <th>...</th>\n",
       "      <td>...</td>\n",
       "      <td>...</td>\n",
       "      <td>...</td>\n",
       "      <td>...</td>\n",
       "    </tr>\n",
       "    <tr>\n",
       "      <th>29995</th>\n",
       "      <td>期待的快餐，菜品丰富，份量足！</td>\n",
       "      <td>4.0</td>\n",
       "      <td>4.0</td>\n",
       "      <td>4.0</td>\n",
       "    </tr>\n",
       "    <tr>\n",
       "      <th>29996</th>\n",
       "      <td>强烈推荐崇明中兴镇高大上休闲场所。带上你们的亲朋好友一起来happy！来了会有意外惊喜哟！</td>\n",
       "      <td>4.0</td>\n",
       "      <td>4.0</td>\n",
       "      <td>4.0</td>\n",
       "    </tr>\n",
       "    <tr>\n",
       "      <th>29997</th>\n",
       "      <td>水果船味道不错，甜甜的，比较好吃。军舰拼盘实惠，口味多，都市我喜欢的。店内招牌更好说一下了风...</td>\n",
       "      <td>4.0</td>\n",
       "      <td>4.0</td>\n",
       "      <td>4.0</td>\n",
       "    </tr>\n",
       "    <tr>\n",
       "      <th>29998</th>\n",
       "      <td>长风景畔广场自从变身为长风大悦城之后，格局大改造，好久没来大变样了，一楼的好多商铺都移至地下...</td>\n",
       "      <td>2.0</td>\n",
       "      <td>1.0</td>\n",
       "      <td>1.0</td>\n",
       "    </tr>\n",
       "    <tr>\n",
       "      <th>29999</th>\n",
       "      <td>万象城新开张，吃的地方生意都很好，云海肴也开张，作为一个半云南妹纸也要来支持一下，不过喜欢的...</td>\n",
       "      <td>3.0</td>\n",
       "      <td>3.0</td>\n",
       "      <td>3.0</td>\n",
       "    </tr>\n",
       "  </tbody>\n",
       "</table>\n",
       "<p>30000 rows × 4 columns</p>\n",
       "</div>"
      ],
      "text/plain": [
       "                                              reviewbody  口味评分  环境评分  服务评分\n",
       "0                              这种地方，环境好是肯定的～吃的羊排什么的。还行吧～   3.0   4.0   4.0\n",
       "1              这是一家在中国的中餐馆，口味、菜单、摆盘（菜量）和任何一家四星本帮菜都没法比… …   0.0   1.0   1.0\n",
       "2      天天中午发愁吃什么，刚好走进中信泰富，为了不过多纠结就和小伙伴决定吃意面。意面分量足够，吃完...   3.0   4.0   4.0\n",
       "3      很多年前在电视上见过介绍这家饭店，就在网上搜索过评论不怎么样也就作罢了，此次有亲戚介绍推荐上...   2.0   0.0   0.0\n",
       "4      去了好几次，德国猪肘是这里的特色菜，基本上每桌必点！还有这里的生啤也不错！如果要坐外面需要自...   4.0   4.0   4.0\n",
       "...                                                  ...   ...   ...   ...\n",
       "29995                                    期待的快餐，菜品丰富，份量足！   4.0   4.0   4.0\n",
       "29996      强烈推荐崇明中兴镇高大上休闲场所。带上你们的亲朋好友一起来happy！来了会有意外惊喜哟！   4.0   4.0   4.0\n",
       "29997  水果船味道不错，甜甜的，比较好吃。军舰拼盘实惠，口味多，都市我喜欢的。店内招牌更好说一下了风...   4.0   4.0   4.0\n",
       "29998  长风景畔广场自从变身为长风大悦城之后，格局大改造，好久没来大变样了，一楼的好多商铺都移至地下...   2.0   1.0   1.0\n",
       "29999  万象城新开张，吃的地方生意都很好，云海肴也开张，作为一个半云南妹纸也要来支持一下，不过喜欢的...   3.0   3.0   3.0\n",
       "\n",
       "[30000 rows x 4 columns]"
      ]
     },
     "execution_count": 4,
     "metadata": {},
     "output_type": "execute_result"
    }
   ],
   "source": [
    "data=pandas.read_csv(\"review30000.csv\")\n",
    "review_data=pandas.DataFrame()\n",
    "review_data[\"reviewbody\"]=data[\"b.reviewbody\"]\n",
    "review_data[\"口味评分\"]=data[\"口味评分\"]\n",
    "review_data[\"环境评分\"]=data[\"环境评分\"]\n",
    "review_data[\"服务评分\"]=data[\"服务评分\"]\n",
    "#把截取的维度数据进行去空\n",
    "review_data=review_data.dropna(axis=0,how=\"any\")\n",
    "review_data"
   ]
  },
  {
   "cell_type": "code",
   "execution_count": 14,
   "id": "9c4509fe",
   "metadata": {},
   "outputs": [
    {
     "name": "stderr",
     "output_type": "stream",
     "text": [
      "c:\\users\\administrator\\appdata\\local\\programs\\python\\python37\\lib\\site-packages\\ipykernel_launcher.py:9: SettingWithCopyWarning: \n",
      "A value is trying to be set on a copy of a slice from a DataFrame.\n",
      "Try using .loc[row_indexer,col_indexer] = value instead\n",
      "\n",
      "See the caveats in the documentation: https://pandas.pydata.org/pandas-docs/stable/user_guide/indexing.html#returning-a-view-versus-a-copy\n",
      "  if __name__ == \"__main__\":\n"
     ]
    },
    {
     "name": "stdout",
     "output_type": "stream",
     "text": [
      "分词化处理结束\n"
     ]
    },
    {
     "name": "stderr",
     "output_type": "stream",
     "text": [
      "c:\\users\\administrator\\appdata\\local\\programs\\python\\python37\\lib\\site-packages\\ipykernel_launcher.py:17: SettingWithCopyWarning: \n",
      "A value is trying to be set on a copy of a slice from a DataFrame.\n",
      "Try using .loc[row_indexer,col_indexer] = value instead\n",
      "\n",
      "See the caveats in the documentation: https://pandas.pydata.org/pandas-docs/stable/user_guide/indexing.html#returning-a-view-versus-a-copy\n",
      "  app.launch_new_instance()\n"
     ]
    },
    {
     "name": "stdout",
     "output_type": "stream",
     "text": [
      "去掉停用词结束\n",
      "词频计算结束\n"
     ]
    },
    {
     "name": "stderr",
     "output_type": "stream",
     "text": [
      "c:\\users\\administrator\\appdata\\local\\programs\\python\\python37\\lib\\site-packages\\ipykernel_launcher.py:29: SettingWithCopyWarning: \n",
      "A value is trying to be set on a copy of a slice from a DataFrame.\n",
      "Try using .loc[row_indexer,col_indexer] = value instead\n",
      "\n",
      "See the caveats in the documentation: https://pandas.pydata.org/pandas-docs/stable/user_guide/indexing.html#returning-a-view-versus-a-copy\n",
      "c:\\users\\administrator\\appdata\\local\\programs\\python\\python37\\lib\\site-packages\\ipykernel_launcher.py:31: SettingWithCopyWarning: \n",
      "A value is trying to be set on a copy of a slice from a DataFrame.\n",
      "Try using .loc[row_indexer,col_indexer] = value instead\n",
      "\n",
      "See the caveats in the documentation: https://pandas.pydata.org/pandas-docs/stable/user_guide/indexing.html#returning-a-view-versus-a-copy\n"
     ]
    },
    {
     "name": "stdout",
     "output_type": "stream",
     "text": [
      "词向量化计算结束\n",
      "标注结束\n"
     ]
    },
    {
     "name": "stderr",
     "output_type": "stream",
     "text": [
      "c:\\users\\administrator\\appdata\\local\\programs\\python\\python37\\lib\\site-packages\\ipykernel_launcher.py:35: SettingWithCopyWarning: \n",
      "A value is trying to be set on a copy of a slice from a DataFrame.\n",
      "Try using .loc[row_indexer,col_indexer] = value instead\n",
      "\n",
      "See the caveats in the documentation: https://pandas.pydata.org/pandas-docs/stable/user_guide/indexing.html#returning-a-view-versus-a-copy\n",
      "c:\\users\\administrator\\appdata\\local\\programs\\python\\python37\\lib\\site-packages\\ipykernel_launcher.py:36: DeprecationWarning: The default dtype for empty Series will be 'object' instead of 'float64' in a future version. Specify a dtype explicitly to silence this warning.\n",
      "c:\\users\\administrator\\appdata\\local\\programs\\python\\python37\\lib\\site-packages\\ipykernel_launcher.py:36: SettingWithCopyWarning: \n",
      "A value is trying to be set on a copy of a slice from a DataFrame.\n",
      "Try using .loc[row_indexer,col_indexer] = value instead\n",
      "\n",
      "See the caveats in the documentation: https://pandas.pydata.org/pandas-docs/stable/user_guide/indexing.html#returning-a-view-versus-a-copy\n",
      "c:\\users\\administrator\\appdata\\local\\programs\\python\\python37\\lib\\site-packages\\ipykernel_launcher.py:38: SettingWithCopyWarning: \n",
      "A value is trying to be set on a copy of a slice from a DataFrame.\n",
      "Try using .loc[row_indexer,col_indexer] = value instead\n",
      "\n",
      "See the caveats in the documentation: https://pandas.pydata.org/pandas-docs/stable/user_guide/indexing.html#returning-a-view-versus-a-copy\n",
      "c:\\users\\administrator\\appdata\\local\\programs\\python\\python37\\lib\\site-packages\\ipykernel_launcher.py:40: SettingWithCopyWarning: \n",
      "A value is trying to be set on a copy of a slice from a DataFrame.\n",
      "Try using .loc[row_indexer,col_indexer] = value instead\n",
      "\n",
      "See the caveats in the documentation: https://pandas.pydata.org/pandas-docs/stable/user_guide/indexing.html#returning-a-view-versus-a-copy\n",
      "c:\\users\\administrator\\appdata\\local\\programs\\python\\python37\\lib\\site-packages\\ipykernel_launcher.py:59: UserWarning: Update your `LSTM` call to the Keras 2 API: `LSTM(activation=\"sigmoid\", units=32, recurrent_activation=\"hard_sigmoid\")`\n"
     ]
    },
    {
     "name": "stdout",
     "output_type": "stream",
     "text": [
      "WARNING:tensorflow:From c:\\users\\administrator\\appdata\\local\\programs\\python\\python37\\lib\\site-packages\\tensorflow_core\\python\\ops\\nn_impl.py:183: where (from tensorflow.python.ops.array_ops) is deprecated and will be removed in a future version.\n",
      "Instructions for updating:\n",
      "Use tf.where in 2.0, which has the same broadcast rule as np.where\n"
     ]
    },
    {
     "name": "stderr",
     "output_type": "stream",
     "text": [
      "c:\\users\\administrator\\appdata\\local\\programs\\python\\python37\\lib\\site-packages\\ipykernel_launcher.py:61: UserWarning: Update your `Dense` call to the Keras 2 API: `Dense(input_dim=32, units=1)`\n",
      "c:\\users\\administrator\\appdata\\local\\programs\\python\\python37\\lib\\site-packages\\ipykernel_launcher.py:64: UserWarning: The `nb_epoch` argument in `fit` has been renamed `epochs`.\n"
     ]
    },
    {
     "name": "stdout",
     "output_type": "stream",
     "text": [
      "WARNING:tensorflow:From c:\\users\\administrator\\appdata\\local\\programs\\python\\python37\\lib\\site-packages\\keras\\backend\\tensorflow_backend.py:422: The name tf.global_variables is deprecated. Please use tf.compat.v1.global_variables instead.\n",
      "\n",
      "Train on 6199 samples, validate on 6198 samples\n",
      "Epoch 1/5\n",
      "6199/6199 [==============================] - 127s 20ms/step - loss: 0.3010 - accuracy: 0.9131 - val_loss: 0.2326 - val_accuracy: 0.9198\n",
      "Epoch 2/5\n",
      "6199/6199 [==============================] - 126s 20ms/step - loss: 0.2253 - accuracy: 0.9216 - val_loss: 0.2127 - val_accuracy: 0.9237\n",
      "Epoch 3/5\n",
      "6199/6199 [==============================] - 123s 20ms/step - loss: 0.1986 - accuracy: 0.9272 - val_loss: 0.2023 - val_accuracy: 0.9292\n",
      "Epoch 4/5\n",
      "6199/6199 [==============================] - 123s 20ms/step - loss: 0.1799 - accuracy: 0.9303 - val_loss: 0.1947 - val_accuracy: 0.9303\n",
      "Epoch 5/5\n",
      "6199/6199 [==============================] - 119s 19ms/step - loss: 0.1584 - accuracy: 0.9374 - val_loss: 0.1873 - val_accuracy: 0.9334\n",
      "12397/12397 [==============================] - 7s 556us/step\n",
      "classes= [[1]\n",
      " [1]\n",
      " [1]\n",
      " ...\n",
      " [0]\n",
      " [0]\n",
      " [1]]\n",
      "6198/6198 [==============================] - 3s 553us/step\n",
      "score= [0.1872848647184701, 0.9333655834197998]\n"
     ]
    },
    {
     "name": "stderr",
     "output_type": "stream",
     "text": [
      "c:\\users\\administrator\\appdata\\local\\programs\\python\\python37\\lib\\site-packages\\ipykernel_launcher.py:9: SettingWithCopyWarning: \n",
      "A value is trying to be set on a copy of a slice from a DataFrame.\n",
      "Try using .loc[row_indexer,col_indexer] = value instead\n",
      "\n",
      "See the caveats in the documentation: https://pandas.pydata.org/pandas-docs/stable/user_guide/indexing.html#returning-a-view-versus-a-copy\n",
      "  if __name__ == \"__main__\":\n"
     ]
    },
    {
     "name": "stdout",
     "output_type": "stream",
     "text": [
      "分词化处理结束\n"
     ]
    },
    {
     "name": "stderr",
     "output_type": "stream",
     "text": [
      "c:\\users\\administrator\\appdata\\local\\programs\\python\\python37\\lib\\site-packages\\ipykernel_launcher.py:17: SettingWithCopyWarning: \n",
      "A value is trying to be set on a copy of a slice from a DataFrame.\n",
      "Try using .loc[row_indexer,col_indexer] = value instead\n",
      "\n",
      "See the caveats in the documentation: https://pandas.pydata.org/pandas-docs/stable/user_guide/indexing.html#returning-a-view-versus-a-copy\n",
      "  app.launch_new_instance()\n"
     ]
    },
    {
     "name": "stdout",
     "output_type": "stream",
     "text": [
      "去掉停用词结束\n",
      "词频计算结束\n",
      "词向量化计算结束\n",
      "标注结束\n"
     ]
    },
    {
     "name": "stderr",
     "output_type": "stream",
     "text": [
      "c:\\users\\administrator\\appdata\\local\\programs\\python\\python37\\lib\\site-packages\\ipykernel_launcher.py:29: SettingWithCopyWarning: \n",
      "A value is trying to be set on a copy of a slice from a DataFrame.\n",
      "Try using .loc[row_indexer,col_indexer] = value instead\n",
      "\n",
      "See the caveats in the documentation: https://pandas.pydata.org/pandas-docs/stable/user_guide/indexing.html#returning-a-view-versus-a-copy\n",
      "c:\\users\\administrator\\appdata\\local\\programs\\python\\python37\\lib\\site-packages\\ipykernel_launcher.py:31: SettingWithCopyWarning: \n",
      "A value is trying to be set on a copy of a slice from a DataFrame.\n",
      "Try using .loc[row_indexer,col_indexer] = value instead\n",
      "\n",
      "See the caveats in the documentation: https://pandas.pydata.org/pandas-docs/stable/user_guide/indexing.html#returning-a-view-versus-a-copy\n",
      "c:\\users\\administrator\\appdata\\local\\programs\\python\\python37\\lib\\site-packages\\ipykernel_launcher.py:35: SettingWithCopyWarning: \n",
      "A value is trying to be set on a copy of a slice from a DataFrame.\n",
      "Try using .loc[row_indexer,col_indexer] = value instead\n",
      "\n",
      "See the caveats in the documentation: https://pandas.pydata.org/pandas-docs/stable/user_guide/indexing.html#returning-a-view-versus-a-copy\n",
      "c:\\users\\administrator\\appdata\\local\\programs\\python\\python37\\lib\\site-packages\\ipykernel_launcher.py:36: DeprecationWarning: The default dtype for empty Series will be 'object' instead of 'float64' in a future version. Specify a dtype explicitly to silence this warning.\n",
      "c:\\users\\administrator\\appdata\\local\\programs\\python\\python37\\lib\\site-packages\\ipykernel_launcher.py:36: SettingWithCopyWarning: \n",
      "A value is trying to be set on a copy of a slice from a DataFrame.\n",
      "Try using .loc[row_indexer,col_indexer] = value instead\n",
      "\n",
      "See the caveats in the documentation: https://pandas.pydata.org/pandas-docs/stable/user_guide/indexing.html#returning-a-view-versus-a-copy\n",
      "c:\\users\\administrator\\appdata\\local\\programs\\python\\python37\\lib\\site-packages\\ipykernel_launcher.py:38: SettingWithCopyWarning: \n",
      "A value is trying to be set on a copy of a slice from a DataFrame.\n",
      "Try using .loc[row_indexer,col_indexer] = value instead\n",
      "\n",
      "See the caveats in the documentation: https://pandas.pydata.org/pandas-docs/stable/user_guide/indexing.html#returning-a-view-versus-a-copy\n",
      "c:\\users\\administrator\\appdata\\local\\programs\\python\\python37\\lib\\site-packages\\ipykernel_launcher.py:40: SettingWithCopyWarning: \n",
      "A value is trying to be set on a copy of a slice from a DataFrame.\n",
      "Try using .loc[row_indexer,col_indexer] = value instead\n",
      "\n",
      "See the caveats in the documentation: https://pandas.pydata.org/pandas-docs/stable/user_guide/indexing.html#returning-a-view-versus-a-copy\n"
     ]
    },
    {
     "ename": "NameError",
     "evalue": "name 'objecty' is not defined",
     "output_type": "error",
     "traceback": [
      "\u001b[1;31m---------------------------------------------------------------------------\u001b[0m",
      "\u001b[1;31mNameError\u001b[0m                                 Traceback (most recent call last)",
      "\u001b[1;32m~\\AppData\\Local\\Temp\\ipykernel_2144\\2491285511.py\u001b[0m in \u001b[0;36m<module>\u001b[1;34m\u001b[0m\n\u001b[0;32m     74\u001b[0m \u001b[0mb4\u001b[0m\u001b[1;33m=\u001b[0m\u001b[0mmarkdown\u001b[0m\u001b[1;33m(\u001b[0m\u001b[0mb3\u001b[0m\u001b[1;33m)\u001b[0m\u001b[1;33m\u001b[0m\u001b[1;33m\u001b[0m\u001b[0m\n\u001b[0;32m     75\u001b[0m \u001b[0mpredict_data\u001b[0m\u001b[1;33m=\u001b[0m\u001b[0mb4\u001b[0m\u001b[1;33m\u001b[0m\u001b[1;33m\u001b[0m\u001b[0m\n\u001b[1;32m---> 76\u001b[1;33m \u001b[0mxb\u001b[0m\u001b[1;33m=\u001b[0m\u001b[0mnumpy\u001b[0m\u001b[1;33m.\u001b[0m\u001b[0marray\u001b[0m\u001b[1;33m(\u001b[0m\u001b[0mlist\u001b[0m\u001b[1;33m(\u001b[0m\u001b[0mpredict_data\u001b[0m\u001b[1;33m[\u001b[0m\u001b[1;34m\"sent\"\u001b[0m\u001b[1;33m]\u001b[0m\u001b[1;33m)\u001b[0m\u001b[1;33m,\u001b[0m\u001b[0mdtype\u001b[0m\u001b[1;33m=\u001b[0m\u001b[0mobjecty\u001b[0m\u001b[1;33m)\u001b[0m\u001b[1;33m\u001b[0m\u001b[1;33m\u001b[0m\u001b[0m\n\u001b[0m\u001b[0;32m     77\u001b[0m \u001b[0mpredict_result\u001b[0m\u001b[1;33m=\u001b[0m\u001b[0mmodel\u001b[0m\u001b[1;33m.\u001b[0m\u001b[0mpredict\u001b[0m\u001b[1;33m(\u001b[0m\u001b[0mxb\u001b[0m\u001b[1;33m,\u001b[0m\u001b[0mbatch_size\u001b[0m\u001b[1;33m=\u001b[0m\u001b[1;36m32\u001b[0m\u001b[1;33m,\u001b[0m\u001b[0mverbose\u001b[0m\u001b[1;33m=\u001b[0m\u001b[1;36m1\u001b[0m\u001b[1;33m)\u001b[0m\u001b[1;33m\u001b[0m\u001b[1;33m\u001b[0m\u001b[0m\n\u001b[0;32m     78\u001b[0m \u001b[0mprint\u001b[0m\u001b[1;33m(\u001b[0m\u001b[1;34m\"predict_result\"\u001b[0m\u001b[1;33m,\u001b[0m\u001b[0mpredict_result\u001b[0m\u001b[1;33m)\u001b[0m\u001b[1;33m\u001b[0m\u001b[1;33m\u001b[0m\u001b[0m\n",
      "\u001b[1;31mNameError\u001b[0m: name 'objecty' is not defined"
     ]
    }
   ],
   "source": [
    "import jieba\n",
    "import numpy\n",
    "from keras.preprocessing import sequence\n",
    "from keras.models import Sequential\n",
    "from keras.layers.embeddings import Embedding\n",
    "from keras.layers.recurrent import LSTM\n",
    "from keras.layers.core import Dropout,Dense,Activation\n",
    "def cut_words(review):\n",
    "    review[\"review_cut_words\"]=review[\"reviewbody\"].apply(lambda x:list(jieba.cut(x)))\n",
    "    print(\"分词化处理结束\")\n",
    "    return review\n",
    "def clean_stop_words(review):\n",
    "    with open(\"stopwords.txt\",\"r\",encoding=\"utf8\") as f:\n",
    "        #希望读出的结果形成一个列表\n",
    "        stops=f.readlines()\n",
    "    stops=[x.strip() for x in stops]\n",
    "    review[\"review_cut_words\"]=review[\"review_cut_words\"].apply(lambda x:[i for i in x if i not in stops])\n",
    "    print(\"去掉停用词结束\")\n",
    "    return review\n",
    "def count_words(review):\n",
    "    #把分词形成一个新的词的集合\n",
    "    w=[]\n",
    "    for i in review[\"review_cut_words\"]:\n",
    "        w.extend(i)\n",
    "    review_dict=pandas.DataFrame(pandas.Series(w).value_counts(),columns=[\"counts\"])\n",
    "    print(\"词频计算结束\")\n",
    "    return review_dict\n",
    "def array_words(review,review_dict):\n",
    "    review[\"sent\"]=review[\"review_cut_words\"].apply(lambda x:list(review_dict[\"counts\"][x]))\n",
    "    maxlen=50\n",
    "    review[\"sent\"]=list(sequence.pad_sequences(review[\"sent\"],maxlen))\n",
    "    print(\"词向量化计算结束\")\n",
    "    return review\n",
    "def markdown(review):\n",
    "    review[\"totalScore\"]=review[\"口味评分\"]+review[\"环境评分\"]+review[\"服务评分\"]\n",
    "    review[\"pos_or_neg\"]=pandas.Series()\n",
    "    pos=review[review[\"totalScore\"]>11]\n",
    "    pos[\"pos_or_neg\"]=1\n",
    "    neg=review[review[\"totalScore\"]<4]\n",
    "    neg[\"pos_or_neg\"]=0\n",
    "    review=pos.append(neg)\n",
    "    print(\"标注结束\")\n",
    "    return review\n",
    "a=review_data[:25000]\n",
    "a1=cut_words(a)\n",
    "a2=clean_stop_words(a1)\n",
    "review_dict_a=count_words(a2)\n",
    "a3=array_words(a2,review_dict_a)\n",
    "a4=markdown(a3)\n",
    "traindata=a4\n",
    "x=numpy.array(list(traindata[\"sent\"]),dtype=object)[::2]\n",
    "y=numpy.array(list(traindata[\"pos_or_neg\"]),dtype=object)[::2]\n",
    "xt=numpy.array(list(traindata[\"sent\"]),dtype=object)[1::2]\n",
    "yt=numpy.array(list(traindata[\"pos_or_neg\"]),dtype=object)[1::2]\n",
    "xa=numpy.array(list(traindata[\"sent\"]),dtype=object)\n",
    "ya=numpy.array(list(traindata[\"pos_or_neg\"]),dtype=object)\n",
    "model=Sequential()\n",
    "model.add(Embedding(len(review_dict_a)+1,256))\n",
    "model.add(LSTM(output_dim=32,activation=\"sigmoid\",inner_activation=\"hard_sigmoid\"))\n",
    "model.add(Dropout(0.5))\n",
    "model.add(Dense(input_dim=32,output_dim=1))\n",
    "model.add(Activation(\"sigmoid\"))\n",
    "model.compile(loss=\"binary_crossentropy\",optimizer=\"Adam\",metrics=[\"accuracy\"])\n",
    "model.fit(x,y,batch_size=32,nb_epoch=5,verbose=1,validation_data=(xt,yt),validation_steps=None)\n",
    "classes=model.predict_classes(xa,batch_size=32,verbose=1)\n",
    "print(\"classes=\",classes)\n",
    "score=model.evaluate(xt,yt,verbose=1)\n",
    "print(\"score=\",score)\n",
    "b=review_data[25000:26000]\n",
    "b1=cut_words(b)\n",
    "b2=clean_stop_words(b1)\n",
    "review_dict_b=count_words(b2)\n",
    "b3=array_words(b2,review_dict_b)\n",
    "b4=markdown(b3)\n",
    "predict_data=b4\n",
    "xb=numpy.array(list(predict_data[\"sent\"]),dtype=object)\n",
    "predict_result=model.predict(xb,batch_size=32,verbose=1)\n",
    "print(\"predict_result\",predict_result)\n",
    "predict_classes=model.predict_classes(xb,batch_size=32,verbose=1)\n",
    "print(\"predict_classes\",predict_classes)"
   ]
  },
  {
   "cell_type": "code",
   "execution_count": null,
   "id": "9581170f",
   "metadata": {},
   "outputs": [],
   "source": []
  }
 ],
 "metadata": {
  "kernelspec": {
   "display_name": "Python 3 (ipykernel)",
   "language": "python",
   "name": "python3"
  },
  "language_info": {
   "codemirror_mode": {
    "name": "ipython",
    "version": 3
   },
   "file_extension": ".py",
   "mimetype": "text/x-python",
   "name": "python",
   "nbconvert_exporter": "python",
   "pygments_lexer": "ipython3",
   "version": "3.7.6"
  }
 },
 "nbformat": 4,
 "nbformat_minor": 5
}
